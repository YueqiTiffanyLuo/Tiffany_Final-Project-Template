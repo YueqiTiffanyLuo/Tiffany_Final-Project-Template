{
 "cells": [
  {
   "cell_type": "markdown",
   "id": "cb685ac8-476a-4c9c-a86f-f3976e840798",
   "metadata": {},
   "source": [
    "---\n",
    "format: \n",
    "  html:\n",
    "    toc: false\n",
    "    page-layout: full\n",
    "execute:\n",
    "    echo: false\n",
    "---"
   ]
  },
  {
   "cell_type": "markdown",
   "id": "1540827b-0539-42e3-9943-11ecd08b97c9",
   "metadata": {},
   "source": [
    "## 3. Regression Analysis"
   ]
  },
  {
   "cell_type": "code",
   "execution_count": 14,
   "id": "d452c6f7-40d2-4f46-852c-1211a207418e",
   "metadata": {},
   "outputs": [],
   "source": [
    "import geopandas as gpd\n",
    "import numpy as np\n",
    "import pandas as pd\n",
    "import cenpy\n",
    "import pygris\n",
    "import pandana as pnda\n",
    "import osmnx as ox\n",
    "import altair as alt\n",
    "import pandana as pnda\n",
    "import geoviews as gv\n",
    "import geoviews.tile_sources as gvts\n",
    "import warnings\n",
    "\n",
    "from pandana.loaders import osm\n",
    "from shapely.geometry import Point\n",
    "from pandana.loaders import osm\n",
    "from matplotlib import pyplot as plt"
   ]
  },
  {
   "cell_type": "code",
   "execution_count": 15,
   "id": "b5942f74-1080-46d5-9386-fd1d24ce03e3",
   "metadata": {},
   "outputs": [],
   "source": [
    "warnings.filterwarnings(\"ignore\")"
   ]
  },
  {
   "cell_type": "code",
   "execution_count": 16,
   "id": "b0db3a40-f4f4-4c6a-b498-328eb223037d",
   "metadata": {},
   "outputs": [],
   "source": [
    "np.random.seed(42)\n",
    "pd.options.display.max_columns = 999"
   ]
  },
  {
   "cell_type": "markdown",
   "id": "bcfe7eb6-d887-4dda-87de-4b8cbc3b6416",
   "metadata": {},
   "source": [
    "Physical amenities can be related to sentiments about community health condition. Therefore, I ran a OLS regression to explore the correlation between the number of health center and number of parks in one neighborhood and percentage of adults who rate their health as “fair” or “poor” (sentiments of how people think of their health conditions).\n",
    "Regression analysis helps in understanding the relationships between different variables. In this case, it helps determine whether there is a statistically significant correlation between the number of health centers and parks and the perceived health conditions of adults in a neighborhood. Understanding the factors that influence perceived health conditions can guide public health interventions. For example, if there is a positive correlation, it might indicate that improving access to health centers and recreational spaces positively affects residents' health perceptions. This information can be valuable for policymakers, urban planners, or health professionals to identify areas for improvement."
   ]
  },
  {
   "cell_type": "code",
   "execution_count": 17,
   "id": "40a42de9-10e8-4f99-906f-d98493496819",
   "metadata": {},
   "outputs": [],
   "source": [
    "planning_districts = gpd.read_file(\n",
    "    \"https://opendata.arcgis.com/datasets/0960ea0f38f44146bb562f2b212075aa_0.geojson\"\n",
    ").to_crs(epsg=2272)\n",
    "community_score = pd.read_csv(\"./data/CLEANED_community_health_score.csv\")\n",
    "community_geo = planning_districts.merge(community_score, how='left', left_on='DIST_NAME', right_on='DIST_NAME').to_crs(epsg=2272)"
   ]
  },
  {
   "cell_type": "code",
   "execution_count": 18,
   "id": "b5b1c9b9-9fbd-4274-81a7-bb4720519cb4",
   "metadata": {},
   "outputs": [],
   "source": [
    "Health_Centers_gdf = gpd.read_file(\"./data/Health_Centers.geojson\").to_crs(\"EPSG:2272\")\n",
    "Health_Centers_gdf['lon'] = Health_Centers_gdf.geometry.x\n",
    "Health_Centers_gdf['lat'] = Health_Centers_gdf.geometry.y"
   ]
  },
  {
   "cell_type": "code",
   "execution_count": 19,
   "id": "f41efff9-8c5b-4f72-a6c0-d1928faa1a0a",
   "metadata": {},
   "outputs": [],
   "source": [
    "joined_data = gpd.sjoin(Health_Centers_gdf, planning_districts, how=\"left\", op=\"within\")\n",
    "health_centers_count = joined_data.groupby('OBJECTID_1').size().reset_index(name='health_centers_count')\n",
    "planning_districts = planning_districts.merge(health_centers_count, left_on='OBJECTID_1', right_on='OBJECTID_1', how='left', suffixes=('_planning', '_health_centers'))"
   ]
  },
  {
   "cell_type": "code",
   "execution_count": 20,
   "id": "c8cf88ea-c933-408b-a1be-9df04516450a",
   "metadata": {},
   "outputs": [],
   "source": [
    "planning_districts = planning_districts.loc[:, ~planning_districts.columns.duplicated()]\n",
    "area = planning_districts.to_crs(epsg=3857).geometry.area\n",
    "planning_districts[\"num_health_center_per_area\"] = planning_districts[\"health_centers_count\"] / area * 1e4"
   ]
  },
  {
   "cell_type": "code",
   "execution_count": 21,
   "id": "9894d03a-4d53-43d1-afe8-27f3ca99fff0",
   "metadata": {},
   "outputs": [],
   "source": [
    "url = \"https://opendata.arcgis.com/datasets/d52445160ab14380a673e5849203eb64_0.geojson\"\n",
    "parks = gpd.read_file(url).to_crs(\"EPSG:2272\")"
   ]
  },
  {
   "cell_type": "code",
   "execution_count": 22,
   "id": "3cd06ed1-98fe-4433-8b95-1bb13e57263d",
   "metadata": {},
   "outputs": [],
   "source": [
    "joined_data = gpd.sjoin(parks, planning_districts, how=\"left\", op=\"within\")\n",
    "parks_count = joined_data.groupby('OBJECTID_1').size().reset_index(name='parks_count')\n",
    "planning_districts = planning_districts.merge(parks_count, left_on='OBJECTID_1', right_on='OBJECTID_1', how='left', suffixes=('_planning', '_parks'))"
   ]
  },
  {
   "cell_type": "code",
   "execution_count": 23,
   "id": "23aca633-dcd1-4df4-8520-8fa5104cec24",
   "metadata": {},
   "outputs": [],
   "source": [
    "planning_districts[\"num_parks_per_area\"] = planning_districts[\"parks_count\"] / area * 1e4"
   ]
  },
  {
   "cell_type": "code",
   "execution_count": 24,
   "id": "009b1399-95a1-4110-8888-b623d9001f87",
   "metadata": {},
   "outputs": [],
   "source": [
    "planning_districts = planning_districts.merge(community_geo[['DIST_NAME', 'Percentage']], on='DIST_NAME', how='left')"
   ]
  },
  {
   "cell_type": "code",
   "execution_count": 25,
   "id": "f7aae739-f02b-4455-99f5-c7132601e3af",
   "metadata": {
    "tags": []
   },
   "outputs": [
    {
     "data": {
      "text/html": [
       "<div>\n",
       "<style scoped>\n",
       "    .dataframe tbody tr th:only-of-type {\n",
       "        vertical-align: middle;\n",
       "    }\n",
       "\n",
       "    .dataframe tbody tr th {\n",
       "        vertical-align: top;\n",
       "    }\n",
       "\n",
       "    .dataframe thead th {\n",
       "        text-align: right;\n",
       "    }\n",
       "</style>\n",
       "<table border=\"1\" class=\"dataframe\">\n",
       "  <thead>\n",
       "    <tr style=\"text-align: right;\">\n",
       "      <th></th>\n",
       "      <th>OBJECTID_1</th>\n",
       "      <th>OBJECTID</th>\n",
       "      <th>DIST_NAME</th>\n",
       "      <th>ABBREV</th>\n",
       "      <th>Shape__Area</th>\n",
       "      <th>Shape__Length</th>\n",
       "      <th>PlanningDist</th>\n",
       "      <th>DaytimePop</th>\n",
       "      <th>geometry</th>\n",
       "      <th>health_centers_count</th>\n",
       "      <th>num_health_center_per_area</th>\n",
       "      <th>parks_count</th>\n",
       "      <th>num_parks_per_area</th>\n",
       "      <th>Percentage</th>\n",
       "    </tr>\n",
       "  </thead>\n",
       "  <tbody>\n",
       "    <tr>\n",
       "      <th>0</th>\n",
       "      <td>1</td>\n",
       "      <td>14</td>\n",
       "      <td>River Wards</td>\n",
       "      <td>RW</td>\n",
       "      <td>2.107270e+08</td>\n",
       "      <td>66931.595020</td>\n",
       "      <td>NaN</td>\n",
       "      <td>NaN</td>\n",
       "      <td>POLYGON ((2711323.754 255818.110, 2711628.628 ...</td>\n",
       "      <td>NaN</td>\n",
       "      <td>NaN</td>\n",
       "      <td>21</td>\n",
       "      <td>0.006289</td>\n",
       "      <td>0.282</td>\n",
       "    </tr>\n",
       "    <tr>\n",
       "      <th>1</th>\n",
       "      <td>2</td>\n",
       "      <td>3</td>\n",
       "      <td>North Delaware</td>\n",
       "      <td>NDEL</td>\n",
       "      <td>2.700915e+08</td>\n",
       "      <td>89213.074378</td>\n",
       "      <td>NaN</td>\n",
       "      <td>NaN</td>\n",
       "      <td>POLYGON ((2743358.021 274541.170, 2743413.946 ...</td>\n",
       "      <td>NaN</td>\n",
       "      <td>NaN</td>\n",
       "      <td>28</td>\n",
       "      <td>0.006534</td>\n",
       "      <td>0.221</td>\n",
       "    </tr>\n",
       "    <tr>\n",
       "      <th>2</th>\n",
       "      <td>3</td>\n",
       "      <td>0</td>\n",
       "      <td>Lower Far Northeast</td>\n",
       "      <td>LFNE</td>\n",
       "      <td>3.068529e+08</td>\n",
       "      <td>92703.285159</td>\n",
       "      <td>NaN</td>\n",
       "      <td>NaN</td>\n",
       "      <td>POLYGON ((2747427.678 297865.068, 2747454.031 ...</td>\n",
       "      <td>NaN</td>\n",
       "      <td>NaN</td>\n",
       "      <td>17</td>\n",
       "      <td>0.003487</td>\n",
       "      <td>0.162</td>\n",
       "    </tr>\n",
       "    <tr>\n",
       "      <th>3</th>\n",
       "      <td>4</td>\n",
       "      <td>9</td>\n",
       "      <td>Central</td>\n",
       "      <td>CTR</td>\n",
       "      <td>1.782880e+08</td>\n",
       "      <td>71405.143450</td>\n",
       "      <td>NaN</td>\n",
       "      <td>NaN</td>\n",
       "      <td>POLYGON ((2697746.272 241701.844, 2697962.079 ...</td>\n",
       "      <td>8.0</td>\n",
       "      <td>0.002835</td>\n",
       "      <td>77</td>\n",
       "      <td>0.027284</td>\n",
       "      <td>0.136</td>\n",
       "    </tr>\n",
       "    <tr>\n",
       "      <th>4</th>\n",
       "      <td>5</td>\n",
       "      <td>10</td>\n",
       "      <td>University Southwest</td>\n",
       "      <td>USW</td>\n",
       "      <td>1.296468e+08</td>\n",
       "      <td>65267.676141</td>\n",
       "      <td>NaN</td>\n",
       "      <td>NaN</td>\n",
       "      <td>POLYGON ((2686719.537 239936.817, 2686992.274 ...</td>\n",
       "      <td>6.0</td>\n",
       "      <td>0.002924</td>\n",
       "      <td>16</td>\n",
       "      <td>0.007798</td>\n",
       "      <td>NaN</td>\n",
       "    </tr>\n",
       "  </tbody>\n",
       "</table>\n",
       "</div>"
      ],
      "text/plain": [
       "   OBJECTID_1  OBJECTID             DIST_NAME ABBREV   Shape__Area  \\\n",
       "0           1        14           River Wards     RW  2.107270e+08   \n",
       "1           2         3        North Delaware   NDEL  2.700915e+08   \n",
       "2           3         0   Lower Far Northeast   LFNE  3.068529e+08   \n",
       "3           4         9               Central    CTR  1.782880e+08   \n",
       "4           5        10  University Southwest    USW  1.296468e+08   \n",
       "\n",
       "   Shape__Length  PlanningDist  DaytimePop  \\\n",
       "0   66931.595020           NaN         NaN   \n",
       "1   89213.074378           NaN         NaN   \n",
       "2   92703.285159           NaN         NaN   \n",
       "3   71405.143450           NaN         NaN   \n",
       "4   65267.676141           NaN         NaN   \n",
       "\n",
       "                                            geometry  health_centers_count  \\\n",
       "0  POLYGON ((2711323.754 255818.110, 2711628.628 ...                   NaN   \n",
       "1  POLYGON ((2743358.021 274541.170, 2743413.946 ...                   NaN   \n",
       "2  POLYGON ((2747427.678 297865.068, 2747454.031 ...                   NaN   \n",
       "3  POLYGON ((2697746.272 241701.844, 2697962.079 ...                   8.0   \n",
       "4  POLYGON ((2686719.537 239936.817, 2686992.274 ...                   6.0   \n",
       "\n",
       "   num_health_center_per_area  parks_count  num_parks_per_area  Percentage  \n",
       "0                         NaN           21            0.006289       0.282  \n",
       "1                         NaN           28            0.006534       0.221  \n",
       "2                         NaN           17            0.003487       0.162  \n",
       "3                    0.002835           77            0.027284       0.136  \n",
       "4                    0.002924           16            0.007798         NaN  "
      ]
     },
     "execution_count": 25,
     "metadata": {},
     "output_type": "execute_result"
    }
   ],
   "source": [
    "planning_districts.head()"
   ]
  },
  {
   "cell_type": "code",
   "execution_count": 26,
   "id": "973648d9-3986-4313-a1ed-fe202e06d073",
   "metadata": {},
   "outputs": [
    {
     "name": "stdout",
     "output_type": "stream",
     "text": [
      "                            OLS Regression Results                            \n",
      "==============================================================================\n",
      "Dep. Variable:             Percentage   R-squared:                       0.025\n",
      "Model:                            OLS   Adj. R-squared:                 -0.106\n",
      "Method:                 Least Squares   F-statistic:                    0.1884\n",
      "Date:                Fri, 22 Dec 2023   Prob (F-statistic):              0.830\n",
      "Time:                        02:29:39   Log-Likelihood:                 17.006\n",
      "No. Observations:                  18   AIC:                            -28.01\n",
      "Df Residuals:                      15   BIC:                            -25.34\n",
      "Df Model:                           2                                         \n",
      "Covariance Type:            nonrobust                                         \n",
      "==============================================================================================\n",
      "                                 coef    std err          t      P>|t|      [0.025      0.975]\n",
      "----------------------------------------------------------------------------------------------\n",
      "const                          0.1873      0.040      4.726      0.000       0.103       0.272\n",
      "num_health_center_per_area    -6.9338     28.128     -0.247      0.809     -66.886      53.019\n",
      "num_parks_per_area             3.0616      5.495      0.557      0.586      -8.651      14.774\n",
      "==============================================================================\n",
      "Omnibus:                        1.450   Durbin-Watson:                   1.920\n",
      "Prob(Omnibus):                  0.484   Jarque-Bera (JB):                1.102\n",
      "Skew:                          -0.570   Prob(JB):                        0.576\n",
      "Kurtosis:                       2.590   Cond. No.                     1.17e+03\n",
      "==============================================================================\n",
      "\n",
      "Notes:\n",
      "[1] Standard Errors assume that the covariance matrix of the errors is correctly specified.\n",
      "[2] The condition number is large, 1.17e+03. This might indicate that there are\n",
      "strong multicollinearity or other numerical problems.\n",
      "\n",
      "Correlation between Percentage and num_health_center_per_area: 0.0657\n",
      "Correlation between Percentage and num_parks_per_area: 0.1434\n"
     ]
    }
   ],
   "source": [
    "import statsmodels.api as sm\n",
    "\n",
    "df = planning_districts[['num_health_center_per_area', 'num_parks_per_area', 'Percentage']].fillna(0)\n",
    "\n",
    "# Define independent variables (X) and dependent variable (y)\n",
    "X = df[['num_health_center_per_area', 'num_parks_per_area']]\n",
    "y = df['Percentage']\n",
    "\n",
    "# Add a constant term to the independent variables matrix\n",
    "X = sm.add_constant(X)\n",
    "\n",
    "# Fit the regression model\n",
    "model = sm.OLS(y, X).fit()\n",
    "\n",
    "# Print the regression results\n",
    "print(model.summary())\n",
    "\n",
    "# Check for correlation\n",
    "correlation_matrix = df.corr()\n",
    "correlation_percentage = correlation_matrix.loc['Percentage', ['num_health_center_per_area', 'num_parks_per_area']]\n",
    "\n",
    "# Print correlation results\n",
    "print(f\"\\nCorrelation between Percentage and num_health_center_per_area: {correlation_percentage['num_health_center_per_area']:.4f}\")\n",
    "print(f\"Correlation between Percentage and num_parks_per_area: {correlation_percentage['num_parks_per_area']:.4f}\")\n"
   ]
  },
  {
   "cell_type": "markdown",
   "id": "9890e0de-2870-425b-a215-313d50d6b910",
   "metadata": {},
   "source": [
    "R-squared measures the proportion of the variance in the dependent variable that is explained by the independent variables. In this case, the R-squared is 0.025, suggesting that only a small percentage (2.5%) of the variability in Percentage is explained by the independent variables.\n",
    "The p-values associated with each coefficient test the null hypothesis that the corresponding coefficient is zero. High p-values (> 0.05) indicate that the corresponding independent variable is not statistically significant.\n",
    "In summary, based on this analysis, there is little evidence to suggest a significant linear relationship between the independent variables num_health_center_per_area and num_parks_per_area and the dependent variable Percentage. Therefore, the number of health center and number of parks in one neighborhood don't have much correlation with how people think of their health conditions."
   ]
  },
  {
   "cell_type": "markdown",
   "id": "40cb39b2-98d9-4c50-96db-34389484390d",
   "metadata": {},
   "source": [
    "Although there is not much correlations among the three indicators, it could be meaningful to create a Community Health Index by aggregating the number of health centers, number of parks, and the percentage of adults rating their health as \"fair\" or \"poor\"."
   ]
  }
 ],
 "metadata": {
  "kernelspec": {
   "display_name": "Python 3 (ipykernel)",
   "language": "python",
   "name": "python3"
  },
  "language_info": {
   "codemirror_mode": {
    "name": "ipython",
    "version": 3
   },
   "file_extension": ".py",
   "mimetype": "text/x-python",
   "name": "python",
   "nbconvert_exporter": "python",
   "pygments_lexer": "ipython3",
   "version": "3.10.12"
  }
 },
 "nbformat": 4,
 "nbformat_minor": 5
}
